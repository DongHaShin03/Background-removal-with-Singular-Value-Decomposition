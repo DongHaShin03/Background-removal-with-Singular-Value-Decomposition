{
 "cells": [
  {
   "cell_type": "markdown",
   "metadata": {
    "id": "dmbKCuWye-rs"
   },
   "source": [
    "# SVD decomposition with `scipy`"
   ]
  },
  {
   "cell_type": "markdown",
   "metadata": {
    "id": "ApkyicLVc6Tj"
   },
   "source": [
    "Import the required modules"
   ]
  },
  {
   "cell_type": "code",
   "execution_count": null,
   "metadata": {
    "id": "1rfgleYmcAuo"
   },
   "outputs": [],
   "source": [
    "import scipy.linalg as la\n",
    "import numpy as np"
   ]
  },
  {
   "cell_type": "markdown",
   "metadata": {
    "id": "oUBZbm3pc9zu"
   },
   "source": [
    "Generate a random 5x4 matrix"
   ]
  },
  {
   "cell_type": "code",
   "execution_count": null,
   "metadata": {
    "id": "HSULhXpXcYXJ"
   },
   "outputs": [],
   "source": [
    "np.random.seed(0)\n",
    "\n",
    "A = np.random.rand(5,4)\n",
    "A"
   ]
  },
  {
   "cell_type": "markdown",
   "metadata": {
    "id": "3a4qVZ5YdHsW"
   },
   "source": [
    "## `<numpy|scipy>.linalg.svd` \n",
    "\n",
    "Equivalent implementations:\n",
    "- https://numpy.org/doc/stable/reference/generated/numpy.linalg.svd.html\n",
    "- https://docs.scipy.org/doc/scipy/reference/generated/scipy.linalg.svd.html\n",
    "\n"
   ]
  },
  {
   "cell_type": "markdown",
   "metadata": {
    "id": "6uj3MxaIeMOw"
   },
   "source": [
    "### Full SVD (`full_matrices = True` - default)\n",
    "\n",
    "**input:**\n",
    "\n",
    "$A \\in \\mathbb{R}^{m\\times n}$\n",
    "\n",
    "**output:**\n",
    "\n",
    "$U \\in \\mathbb{R}^{m\\times m}, S \\in \\mathbb{R}^{m\\times n}, V \\in \\mathbb{R}^{n\\times n}$\n",
    "\n",
    "or, more precisely\n",
    "\n",
    "$\\boldsymbol{\\sigma} \\in \\mathbb{R}^{q} $\n",
    "\n",
    "where $q = \\min(m,n)$.\n"
   ]
  },
  {
   "cell_type": "code",
   "execution_count": null,
   "metadata": {
    "id": "RPh_IJdscdNb"
   },
   "outputs": [],
   "source": [
    "U, s, VT = np.linalg.svd(A)\n",
    "#U, s, VT = la.svd(A)\n",
    "print('U shape: ', U.shape)\n",
    "print('s shape: ', s.shape)\n",
    "print('VT shape: ', VT.shape)"
   ]
  },
  {
   "cell_type": "markdown",
   "metadata": {
    "id": "dlKu4OF926LD"
   },
   "source": [
    "Build the matrix $S$"
   ]
  },
  {
   "cell_type": "code",
   "execution_count": null,
   "metadata": {
    "id": "yccHBHngcsri"
   },
   "outputs": [],
   "source": [
    "S = np.zeros(A.shape)\n",
    "for i in range(len(s)):\n",
    "    S[i, i] = s[i]\n",
    "S"
   ]
  },
  {
   "cell_type": "code",
   "execution_count": null,
   "metadata": {
    "id": "fUcq8ihmcxjp"
   },
   "outputs": [],
   "source": [
    "S = la.diagsvd(s, A.shape[0], A.shape[1])\n",
    "S"
   ]
  },
  {
   "cell_type": "markdown",
   "metadata": {
    "id": "hQYIgR273C8a"
   },
   "source": [
    "Reconstruct the matrix $A$"
   ]
  },
  {
   "cell_type": "code",
   "execution_count": null,
   "metadata": {
    "id": "oY02NgbWc1TI"
   },
   "outputs": [],
   "source": [
    "A_svd = np.matmul(U, np.matmul(S,VT))\n",
    "# equivalently: A_svd = U @ S @ VT\n",
    "print(f\"err: {(la.norm(A - A_svd) / la.norm(A))}\")"
   ]
  },
  {
   "cell_type": "markdown",
   "metadata": {
    "id": "W1HRvIvrdsOy"
   },
   "source": [
    "### Thin SVD (`full_matrices = False`)\n",
    "\n",
    "**input:**\n",
    "\n",
    "$A \\in \\mathbb{R}^{m\\times n}$\n",
    "\n",
    "**output:**\n",
    "\n",
    "$U \\in \\mathbb{R}^{m\\times q}, S \\in \\mathbb{R}^{q\\times q}, V \\in \\mathbb{R}^{n\\times q}$\n",
    "\n",
    "or, more precisely\n",
    "\n",
    "$\\boldsymbol{\\sigma} \\in \\mathbb{R}^{q} $\n",
    "\n",
    "where $q = \\min(m,n)$.\n",
    "\n"
   ]
  },
  {
   "cell_type": "code",
   "execution_count": null,
   "metadata": {
    "id": "7toKBuE-dvEL"
   },
   "outputs": [],
   "source": [
    "U, s, VT = la.svd(A, full_matrices=False)\n",
    "print('U shape: ', U.shape)\n",
    "print('s shape: ', s.shape)\n",
    "print('VT shape: ', VT.shape)"
   ]
  },
  {
   "cell_type": "markdown",
   "metadata": {
    "id": "4afloZj529Ps"
   },
   "source": [
    "Build the matrix $S$"
   ]
  },
  {
   "cell_type": "code",
   "execution_count": null,
   "metadata": {
    "id": "iml2ixlfd27M"
   },
   "outputs": [],
   "source": [
    "S = np.diag(s)\n",
    "S"
   ]
  },
  {
   "cell_type": "markdown",
   "metadata": {
    "id": "efXGNZqD2-XD"
   },
   "source": [
    "Reconstruct the matrix $A$"
   ]
  },
  {
   "cell_type": "code",
   "execution_count": null,
   "metadata": {
    "id": "RVDQYJNJd6ot"
   },
   "outputs": [],
   "source": [
    "A_svd = np.matmul(U, np.matmul(S,VT))\n",
    "print(f\"err: {la.norm(A - A_svd) / la.norm(A)}\")"
   ]
  },
  {
   "cell_type": "markdown",
   "metadata": {},
   "source": [
    "### A note on vectorization\n",
    "Vectorization refers to the practice of replacing explicit loops with high-level mathematical operations that act on entire arrays or matrices at once. This leads to much better performance because it replaces slow Python loops with fast, optimized C and Fortran operations.\n",
    "\n",
    "Indeed, we could be inclined to reconstruct $A_k$ with a for loop and the explicit formula\n",
    "$$A_k = \\sigma_1 u_1 v_1^T + ... + \\sigma_k u_k v_k^T.$$\n",
    "\n",
    "Let's measure the time taken for this operation for a matrix $A$ that is a bit larger"
   ]
  },
  {
   "cell_type": "code",
   "execution_count": null,
   "metadata": {},
   "outputs": [],
   "source": [
    "import time\n",
    "\n",
    "A = np.random.rand(1000, 1500)\n",
    "U, s, VT = la.svd(A, full_matrices=False)\n",
    "S = np.diag(s)\n"
   ]
  },
  {
   "cell_type": "markdown",
   "metadata": {},
   "source": [
    "Time the reconstruction with a for loop"
   ]
  },
  {
   "cell_type": "code",
   "execution_count": null,
   "metadata": {},
   "outputs": [],
   "source": [
    "start_time = time.time()\n",
    "\n",
    "A_reconstructed_loop = np.zeros_like(A)\n",
    "for i in range(len(s)):\n",
    "    A_reconstructed_loop += s[i] * np.outer(U[:, i], VT[i, :])\n",
    "\n",
    "loop_time = time.time() - start_time"
   ]
  },
  {
   "cell_type": "markdown",
   "metadata": {},
   "source": [
    "Time the vectorized reconstruction using matrix multiplication"
   ]
  },
  {
   "cell_type": "code",
   "execution_count": null,
   "metadata": {},
   "outputs": [],
   "source": [
    "start_time = time.time()\n",
    "\n",
    "A_reconstructed_matmult = U @ S @ VT\n",
    "\n",
    "matmult_time = time.time() - start_time"
   ]
  },
  {
   "cell_type": "markdown",
   "metadata": {},
   "source": [
    "If $S \\in \\mathbb R^{q \\times q}$ diagonal (with elements on the diagonal equal to $s \\in \\mathbb R^{q}$), then the each of $US$ is equal to the element wise product of that row of $U$ with $s$, namely, $(US)_{i,j} = U_{i, j} s_j$. Indeed, $(US)_{i,j} = \\sum_{k} U_{i, k} S_{k, j} = U_{i, j} S_{j, j} = U_{i, j} s_j$, since $S_{k, j} = 0$ iff $k \\neq j$."
   ]
  },
  {
   "cell_type": "code",
   "execution_count": null,
   "metadata": {},
   "outputs": [],
   "source": [
    "start_time = time.time()\n",
    "\n",
    "# here we are using broadcasting to avoid the creation of a diagonal matrix\n",
    "# see: https://numpy.org/doc/stable/user/basics.broadcasting.html\n",
    "A_reconstructed_vectorized = (U * s) @ VT\n",
    "\n",
    "vectorized_time = time.time() - start_time"
   ]
  },
  {
   "cell_type": "markdown",
   "metadata": {},
   "source": [
    "We compare the results"
   ]
  },
  {
   "cell_type": "code",
   "execution_count": null,
   "metadata": {},
   "outputs": [],
   "source": [
    "print(f\"Time for reconstruction using for loop: {loop_time:.6f} seconds\")\n",
    "print(f\"Time for vectorized reconstruction: {vectorized_time:.6f} seconds\")\n",
    "print(f\"Matmult is {loop_time / matmult_time:.1f} times faster than the loop\")\n",
    "print(f\"Vectorized is {matmult_time / vectorized_time:.1f} times faster than the matmult\")\n",
    "\n",
    "difference = np.abs(A_reconstructed_loop - A_reconstructed_vectorized).max()\n",
    "print(f\"Difference between the two reconstructions: {difference:.6e}\")"
   ]
  }
 ],
 "metadata": {
  "colab": {
   "authorship_tag": "ABX9TyPGpgzn/OLfzMVbm125sj7o",
   "name": "basics_svd.ipynb",
   "provenance": []
  },
  "kernelspec": {
   "display_name": "Python 3",
   "language": "python",
   "name": "python3"
  },
  "language_info": {
   "codemirror_mode": {
    "name": "ipython",
    "version": 3
   },
   "file_extension": ".py",
   "mimetype": "text/x-python",
   "name": "python",
   "nbconvert_exporter": "python",
   "pygments_lexer": "ipython3",
   "version": "3.11.6"
  }
 },
 "nbformat": 4,
 "nbformat_minor": 1
}
