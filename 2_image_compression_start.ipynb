{
 "cells": [
  {
   "cell_type": "markdown",
   "metadata": {
    "id": "6LZ15hUkY9Y-"
   },
   "source": [
    "# Image compression through Singular Value Decomposition\n"
   ]
  },
  {
   "cell_type": "markdown",
   "metadata": {
    "id": "5IvP0hGtUPc8"
   },
   "source": [
    "Load a picture as a 3-dimensional `np.array`"
   ]
  },
  {
   "cell_type": "code",
   "execution_count": null,
   "metadata": {
    "executionInfo": {
     "elapsed": 1587,
     "status": "ok",
     "timestamp": 1664953866084,
     "user_tz": -120
    },
    "id": "5XJeceS3S6B_"
   },
   "outputs": [],
   "source": [
    "from matplotlib.image import imread\n",
    "import matplotlib.pyplot as plt\n",
    "import numpy as np\n",
    "from scipy.ndimage import rotate\n",
    "\n",
    "# write here the import path of the image\n",
    "# test this with\n",
    "# - TarantulaNebula\n",
    "# - mondrian\n",
    "# - mondrian (rotated)\n",
    "image_path = \"./TarantulaNebula.jpg\"\n",
    "\n",
    "A = imread(image_path)\n",
    "# A = rotate(A, 20, reshape=False)"
   ]
  },
  {
   "cell_type": "markdown",
   "metadata": {
    "id": "MTOBvcyrZqfN"
   },
   "source": [
    "Visualize the picture\n"
   ]
  },
  {
   "cell_type": "code",
   "execution_count": null,
   "metadata": {
    "colab": {
     "base_uri": "https://localhost:8080/",
     "height": 451
    },
    "executionInfo": {
     "elapsed": 950,
     "status": "ok",
     "timestamp": 1664953867029,
     "user_tz": -120
    },
    "id": "g1cNkXpcZtQM",
    "outputId": "f8e1fc53-58d1-47e9-df38-340e67343c7f"
   },
   "outputs": [],
   "source": [
    "img = plt.imshow(A)\n",
    "plt.axis(\"off\")"
   ]
  },
  {
   "cell_type": "markdown",
   "metadata": {
    "id": "wPu7sxbdZyh2"
   },
   "source": [
    "Convert the picture to gray-scale and visualize it.\n"
   ]
  },
  {
   "cell_type": "code",
   "execution_count": null,
   "metadata": {
    "executionInfo": {
     "elapsed": 10,
     "status": "ok",
     "timestamp": 1664953867030,
     "user_tz": -120
    },
    "id": "cKcUnsUdcvxf"
   },
   "outputs": [],
   "source": [
    "X = np.mean(A, axis=2)"
   ]
  },
  {
   "cell_type": "code",
   "execution_count": null,
   "metadata": {
    "colab": {
     "base_uri": "https://localhost:8080/",
     "height": 433
    },
    "executionInfo": {
     "elapsed": 942,
     "status": "ok",
     "timestamp": 1664953867963,
     "user_tz": -120
    },
    "id": "qjysHjAFZRdZ",
    "outputId": "ecbb88f8-43bf-4893-9bb7-7e001d3eb872"
   },
   "outputs": [],
   "source": [
    "img = plt.imshow(X)\n",
    "plt.axis(\"off\")\n",
    "img.set_cmap(\"gray\")\n",
    "plt.show()"
   ]
  },
  {
   "cell_type": "markdown",
   "metadata": {
    "id": "x5XyXGXTaAnq"
   },
   "source": [
    "What is the picture size?\n"
   ]
  },
  {
   "cell_type": "code",
   "execution_count": null,
   "metadata": {
    "colab": {
     "base_uri": "https://localhost:8080/"
    },
    "executionInfo": {
     "elapsed": 27,
     "status": "ok",
     "timestamp": 1664953867964,
     "user_tz": -120
    },
    "id": "Delcn6eITPnN",
    "outputId": "d4da78cd-81f3-4a4a-b3a4-0263a53c72ac"
   },
   "outputs": [],
   "source": [
    "X.shape"
   ]
  },
  {
   "cell_type": "markdown",
   "metadata": {
    "id": "_PUZf7P3UdJE"
   },
   "source": [
    "Perform the SVD decomposition\n"
   ]
  },
  {
   "cell_type": "code",
   "execution_count": null,
   "metadata": {
    "colab": {
     "base_uri": "https://localhost:8080/"
    },
    "executionInfo": {
     "elapsed": 20,
     "status": "ok",
     "timestamp": 1664953867965,
     "user_tz": -120
    },
    "id": "cUuBvOH2Ty-X",
    "outputId": "0245e032-a14a-4475-f516-16fe8dcacf33"
   },
   "outputs": [],
   "source": [
    "# FILL HERE"
   ]
  },
  {
   "cell_type": "markdown",
   "metadata": {
    "id": "4X254R-aUgkc"
   },
   "source": [
    "Plot the trend of\n",
    "\n",
    "- the singular values $\\sigma_k$\n",
    "- the cumulate fraction of singular values: $\\frac{\\sum_{i=1}^{k} \\sigma_i}{\\sum_{i=1}^{q} \\sigma_i}$\n",
    "- the fraction of the \"explained variance\": $\\frac{\\sum_{i=1}^{k} \\sigma_i^2}{\\sum_{i=1}^{q} \\sigma_i^2}$\n"
   ]
  },
  {
   "cell_type": "code",
   "execution_count": null,
   "metadata": {
    "colab": {
     "base_uri": "https://localhost:8080/",
     "height": 408
    },
    "executionInfo": {
     "elapsed": 463,
     "status": "ok",
     "timestamp": 1664953868411,
     "user_tz": -120
    },
    "id": "JC8yOGLlUEkO",
    "outputId": "e8c836a0-25e4-4fce-c74a-d708425931df"
   },
   "outputs": [],
   "source": [
    "fig, axes = plt.subplots(nrows=1, ncols=3, figsize=(18, 6))\n",
    "axes[0].semilogy(s, \"o-\")\n",
    "axes[0].set_title(\"Singluar values\")\n",
    "\n",
    "axes[1].plot(np.cumsum(s) / np.sum(s), \"o-\")\n",
    "axes[1].set_title(\"Cumulate fraction of singular values\")\n",
    "\n",
    "axes[2].plot(np.sqrt(np.cumsum(s**2) / np.sum(s**2)), \"o-\")\n",
    "axes[2].set_title(\"Explained variance\")"
   ]
  },
  {
   "cell_type": "markdown",
   "metadata": {
    "id": "HgQ3FyzYVSnM"
   },
   "source": [
    "Visualize the best rank-$k$ matrices ($A_k$), for $k$ = 1, 5, 10, 50, 100, 500\n"
   ]
  },
  {
   "cell_type": "code",
   "execution_count": null,
   "metadata": {
    "colab": {
     "base_uri": "https://localhost:8080/",
     "height": 669
    },
    "executionInfo": {
     "elapsed": 1865,
     "status": "ok",
     "timestamp": 1664953870270,
     "user_tz": -120
    },
    "id": "SgnitevJidnk",
    "outputId": "bee88752-8622-45a8-9ca1-21197274be63"
   },
   "outputs": [],
   "source": [
    "fig, axs = plt.subplots(nrows=2, ncols=3, figsize=(18, 12))\n",
    "axs = axs.reshape((-1,))\n",
    "idxs = [1, 2, 5, 10, 15, 50]\n",
    "for i in range(len(idxs)):\n",
    "    k = idxs[i]\n",
    "# FILL HERE\n",
    "    axs[i].set_title(f\"k = {k}\")\n",
    "    axs[i].axis(\"off\")"
   ]
  },
  {
   "cell_type": "markdown",
   "metadata": {
    "id": "s_hMe7jGWgSl"
   },
   "source": [
    "Visualize the $k$-th rank-1 matix, for $k$ = 1,2,...,6. "
   ]
  },
  {
   "cell_type": "code",
   "execution_count": null,
   "metadata": {
    "colab": {
     "base_uri": "https://localhost:8080/",
     "height": 669
    },
    "executionInfo": {
     "elapsed": 965,
     "status": "ok",
     "timestamp": 1664953871225,
     "user_tz": -120
    },
    "id": "BrHtAOEZkBCT",
    "outputId": "68aee099-c127-481d-e412-d09b94e9f19d"
   },
   "outputs": [],
   "source": [
    "fig, axs = plt.subplots(nrows=2, ncols=3, figsize=(18, 12))\n",
    "axs = axs.reshape((-1,))\n",
    "idxs = [1, 2, 3, 4, 5, 6]\n",
    "for i, k in enumerate(idxs):\n",
    "# FILL HERE\n",
    "    axs[i].set_title(f\"{k}-th rank-1 matrix\")\n",
    "    axs[i].axis(\"off\")"
   ]
  },
  {
   "cell_type": "markdown",
   "metadata": {},
   "source": [
    "## Randomized SVD\n",
    "\n",
    "Implement now a function that computes the randomized SVD of rank $k$ of a generic matrix $A$.\n"
   ]
  },
  {
   "cell_type": "code",
   "execution_count": null,
   "metadata": {},
   "outputs": [],
   "source": [
    "def randomized_SVD(A, k):\n",
    "# FILL HERE\n",
    "    return U, sy, VTy"
   ]
  },
  {
   "cell_type": "markdown",
   "metadata": {},
   "source": [
    "Set $k=100$ and compute the randomized SVD of the picture used above."
   ]
  },
  {
   "cell_type": "code",
   "execution_count": null,
   "metadata": {},
   "outputs": [],
   "source": [
    "k = 100\n",
    "# FILL HERE"
   ]
  },
  {
   "cell_type": "markdown",
   "metadata": {},
   "source": [
    "Plot the approximate singular values, their cumulate values and their cumulate squares, with a comparison of the ones obtained with the \"exact\" (i.e. non randomized) SVD."
   ]
  },
  {
   "cell_type": "code",
   "execution_count": null,
   "metadata": {},
   "outputs": [],
   "source": [
    "fig, axs = plt.subplots(1, 3, figsize=(18, 6))\n",
    "# FILL HERE"
   ]
  },
  {
   "cell_type": "markdown",
   "metadata": {},
   "source": [
    "Compare the original picture with the best rank-$k$ matrix obtained through SVD and the best rank-$k$ matrix obtained through randomized SVD."
   ]
  },
  {
   "cell_type": "code",
   "execution_count": null,
   "metadata": {},
   "outputs": [],
   "source": [
    "fig, axs = plt.subplots(1, 3, figsize=(18, 6))\n",
    "# FILL HERE"
   ]
  }
 ],
 "metadata": {
  "colab": {
   "authorship_tag": "ABX9TyMw+cRTJKhbgT24hrgLcO53",
   "collapsed_sections": [],
   "mount_file_id": "1W1RQAZW1N2z73eDs9yXFsG2LngOpuk28",
   "provenance": []
  },
  "kernelspec": {
   "display_name": "Python 3",
   "language": "python",
   "name": "python3"
  },
  "language_info": {
   "codemirror_mode": {
    "name": "ipython",
    "version": 3
   },
   "file_extension": ".py",
   "mimetype": "text/x-python",
   "name": "python",
   "nbconvert_exporter": "python",
   "pygments_lexer": "ipython3",
   "version": "3.13.7"
  }
 },
 "nbformat": 4,
 "nbformat_minor": 1
}
