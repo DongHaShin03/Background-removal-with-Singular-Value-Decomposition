{
 "cells": [
  {
   "cell_type": "markdown",
   "id": "0ba3fa37",
   "metadata": {},
   "source": [
    "# Noise Removal\n",
    "\n",
    "Load a picture as a 3-dimensional `np.array`"
   ]
  },
  {
   "cell_type": "code",
   "execution_count": null,
   "id": "87f9e25b",
   "metadata": {},
   "outputs": [],
   "source": [
    "import numpy as np\n",
    "from matplotlib.image import imread\n",
    "import matplotlib.pyplot as plt\n",
    "from scipy.ndimage import rotate\n",
    "\n",
    "# write here the import path of the image\n",
    "# test this with\n",
    "# - TarantulaNebula\n",
    "# - mondrian\n",
    "# - mondrian (rotated)\n",
    "image_path = \"./mondrian.jpg\"\n",
    "A = imread(image_path)\n",
    "# A = rotate(A, 20, reshape=False)\n"
   ]
  },
  {
   "cell_type": "markdown",
   "id": "49a7dfd0",
   "metadata": {},
   "source": [
    "Transform the image in gray-scale and add random noise"
   ]
  },
  {
   "cell_type": "code",
   "execution_count": null,
   "id": "a769872b",
   "metadata": {},
   "outputs": [],
   "source": [
    "X = np.mean(A, axis=2) / A.max()\n",
    "gamma = 0.1\n",
    "X_noisy = X + gamma * np.random.randn(*X.shape)\n",
    "X_noisy = np.clip(X_noisy, 0, 1)"
   ]
  },
  {
   "cell_type": "markdown",
   "id": "7dcd0319",
   "metadata": {},
   "source": [
    "Plot the original image and the noisy one"
   ]
  },
  {
   "cell_type": "code",
   "execution_count": null,
   "id": "b702cb8e",
   "metadata": {},
   "outputs": [],
   "source": [
    "fig, axs = plt.subplots(1, 2, figsize=(10, 5))\n",
    "axs[0].imshow(X, cmap=\"gray\")\n",
    "axs[0].set_title(\"Original Image\")\n",
    "axs[1].imshow(X_noisy, cmap=\"gray\")\n",
    "axs[1].set_title(\"Noisy Image\")"
   ]
  },
  {
   "cell_type": "markdown",
   "id": "b6cd787b",
   "metadata": {},
   "source": [
    "Compute and visualize the threshold for denoising with:\n",
    "- optimal hard threshold \n",
    "$$(4 / \\sqrt{3})\\sqrt{n} \\gamma$$\n",
    "- optimal hard threshold with unknown noise (slide 7, NAML_Lect300925_v2)\n",
    "$$\\tau = \\omega(\\beta) \\sigma_{median} \\gamma$$\n",
    "$$\\omega(\\beta) \\sim 0.56 \\beta^3 - 0.95 \\beta^2 + 1.82 \\beta + 1.43, \\quad \\beta = m / n$$\n",
    "- 90% energy (0.9 of cumulative sum)"
   ]
  },
  {
   "cell_type": "code",
   "execution_count": null,
   "id": "166172de",
   "metadata": {},
   "outputs": [],
   "source": [
    "U, s, VT = np.linalg.svd(X_noisy, full_matrices=0)\n",
    "\n",
    "# FILL HERE"
   ]
  },
  {
   "cell_type": "markdown",
   "id": "1cc011c6",
   "metadata": {},
   "source": [
    "Compute the de-noised images with the previous thresholds"
   ]
  },
  {
   "cell_type": "code",
   "execution_count": null,
   "id": "1c63a75d",
   "metadata": {},
   "outputs": [],
   "source": [
    "# FILL HERE"
   ]
  },
  {
   "cell_type": "markdown",
   "id": "0598ed32",
   "metadata": {},
   "source": [
    "Plot and compare the denoised images. Plot also the error with respect to the original image."
   ]
  },
  {
   "cell_type": "code",
   "execution_count": null,
   "id": "c9025d93",
   "metadata": {},
   "outputs": [],
   "source": [
    "# FILL HERE"
   ]
  }
 ],
 "metadata": {
  "kernelspec": {
   "display_name": "Python 3",
   "language": "python",
   "name": "python3"
  },
  "language_info": {
   "codemirror_mode": {
    "name": "ipython",
    "version": 3
   },
   "file_extension": ".py",
   "mimetype": "text/x-python",
   "name": "python",
   "nbconvert_exporter": "python",
   "pygments_lexer": "ipython3",
   "version": "3.11.6"
  }
 },
 "nbformat": 4,
 "nbformat_minor": 5
}
